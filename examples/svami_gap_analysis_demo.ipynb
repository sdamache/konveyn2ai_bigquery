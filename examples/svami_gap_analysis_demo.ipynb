{
  "cells": [
    {
      "cell_type": "markdown",
      "metadata": {},
      "source": [
        "# Svami Gap Analysis Demo\n",
        "\n",
        "Call the /gap-analysis endpoint exposed by the Svami orchestrator to surface BigQuery-backed gap metrics directly inside a Kaggle notebook.\n"
      ]
    },
    {
      "cell_type": "markdown",
      "id": "50e502ff",
      "metadata": {},
      "source": [
        "## Prerequisites\n",
        "- Svami orchestrator service is running and reachable from this notebook.\n",
        "- A valid API token (or disable auth for local testing).\n",
        "- The \n",
        "equests library is available (pre-installed on Kaggle).\n",
        "- The Kaggle runtime already includes `pandas` and IPython display utilities for inline rendering.\n"
      ]
    },
    {
      "cell_type": "code",
      "execution_count": null,
      "id": "19865c1b",
      "metadata": {},
      "outputs": [],
      "source": [
        "import os\n",
        "import requests\n",
        "import pandas as pd\n",
        "from IPython.display import Markdown, display\n",
        "\n",
        "SVAMI_URL = os.getenv('SVAMI_URL', 'http://localhost:8003')\n",
        "API_TOKEN = os.getenv('SVAMI_API_TOKEN', 'demo-token')\n",
        "\n",
        "session = requests.Session()\n",
        "session.headers.update({'Authorization': f'Bearer {API_TOKEN}'})\n",
        "\n",
        "print(f'Using Svami at {SVAMI_URL}')\n"
      ]
    },
    {
      "cell_type": "code",
      "execution_count": null,
      "id": "6e3a374a",
      "metadata": {},
      "outputs": [],
      "source": [
        "payload = {\n",
        "    'topic': 'FastAPI authentication',\n",
        "    'artifact_type': 'fastapi',\n",
        "    'limit': 5\n",
        "}\n",
        "\n",
        "response = session.post(f\"{SVAMI_URL}/gap-analysis\", json=payload, timeout=30)\n",
        "response.raise_for_status()\n",
        "analysis = response.json()\n",
        "\n",
        "display(Markdown(f\"### Gap Analysis for **{analysis['topic']}**\"))\n",
        "display(Markdown(analysis['message']))\n"
      ]
    },
    {
      "cell_type": "code",
      "execution_count": null,
      "id": "d3151445",
      "metadata": {},
      "outputs": [],
      "source": [
        "findings = analysis.get('findings', [])\n",
        "\n",
        "if not findings:\n",
        "    display(Markdown('_No gaps returned for this topic._'))\n",
        "else:\n",
        "    df = pd.DataFrame(findings)\n",
        "    note = \"_showing {results} findings (limit {limit})_\".format(\n",
        "        results=len(df), limit=payload['limit']\n",
        "    )\n",
        "    display(Markdown(note))\n",
        "    display(df[['rule_name', 'artifact_type', 'severity', 'confidence', 'source_path', 'suggested_fix']])\n"
      ]
    }
  ],
  "metadata": {
    "kernelspec": {
      "display_name": "Python 3",
      "language": "python",
      "name": "python3"
    },
    "language_info": {
      "name": "python",
      "version": "3.9"
    }
  },
  "nbformat": 4,
  "nbformat_minor": 5
}
