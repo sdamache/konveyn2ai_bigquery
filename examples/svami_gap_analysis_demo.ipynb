{
  "cells": [
    {
      "cell_type": "markdown",
      "metadata": {},
      "source": [
        "# Svami Gap Analysis Demo\n",
        "\n",
        "Call the /gap-analysis endpoint exposed by the Svami orchestrator to surface BigQuery-backed gap metrics directly inside a Kaggle notebook.\n"
      ]
    },
    {
      "cell_type": "markdown",
      "metadata": {},
      "source": [
        "## Prerequisites\n",
        "- Svami orchestrator service is running and reachable from this notebook.\n",
        "- A valid API token (or disable auth for local testing).\n",
        "- The \n",
        "equests library is available (pre-installed on Kaggle).\n"
      ]
    },
    {
      "cell_type": "code",
      "metadata": {},
      "execution_count": null,
      "outputs": [],
      "source": [
        "import os\n",
        "import requests\n",
        "\n",
        "SVAMI_URL = os.getenv('SVAMI_URL', 'http://localhost:8003')\n",
        "API_TOKEN = os.getenv('SVAMI_API_TOKEN', 'demo-token')\n",
        "\n",
        "session = requests.Session()\n",
        "session.headers.update({'Authorization': f'Bearer {API_TOKEN}'})\n",
        "\n",
        "print(f'Using Svami at {SVAMI_URL}')\n"
      ]
    },
    {
      "cell_type": "code",
      "metadata": {},
      "execution_count": null,
      "outputs": [],
      "source": [
        "payload = {\n",
        "    'topic': 'FastAPI authentication',\n",
        "    'artifact_type': 'fastapi',\n",
        "    'limit': 5\n",
        "}\n",
        "\n",
        "response = session.post(f\"{SVAMI_URL}/gap-analysis\", json=payload, timeout=30)\n",
        "response.raise_for_status()\n",
        "analysis = response.json()\n",
        "\n",
        "print('Summary:')\n",
        "print(analysis['summary'])\n"
      ]
    },
    {
      "cell_type": "code",
      "metadata": {},
      "execution_count": null,
      "outputs": [],
      "source": [
        "findings = analysis.get('findings', [])\n",
        "\n",
        "if not findings:\n",
        "    print('No gaps returned for this topic.')\n",
        "else:\n",
        "    print(f\"\n",
        "Top {len(findings)} findings:\")\n",
        "    for idx, finding in enumerate(findings, start=1):\n",
        "        location = finding.get('source_url') or finding.get('source_path') or finding.get('chunk_id')\n",
        "        print(f\"\n",
        "{idx}. {finding['rule_name']} (severity {finding['severity']}, confidence {finding['confidence']:.2f})\")\n",
        "        print(f\"   Location: {location}\")\n",
        "        print(f\"   Summary : {finding['summary']}\")\n",
        "        if finding.get('suggested_fix'):\n",
        "            print(f\"   Fix     : {finding['suggested_fix']}\")\n"
      ]
    },
    {
      "cell_type": "markdown",
      "metadata": {},
      "source": [
        "## Interactive gap analysis dashboard\n",
        "Use the widget below to query Svami's `/gap-analysis` endpoint and preview the bundled heat maps and progress charts.  \n",
        "Set the `GAP_ANALYSIS_OFFLINE=1` environment variable inside Kaggle to avoid external calls."
      ]
    },
    {
      "cell_type": "code",
      "execution_count": null,
      "metadata": {},
      "outputs": [],
      "source": [
        "from examples.gap_analysis_widgets import create_gap_analysis_dashboard\n",
        "\n",
        "create_gap_analysis_dashboard()"
      ]
    }
  ],
  "metadata": {
    "kernelspec": {
      "display_name": "Python 3",
      "language": "python",
      "name": "python3"
    },
    "language_info": {
      "name": "python",
      "version": "3.9"
    }
  },
  "nbformat": 4,
  "nbformat_minor": 5
}